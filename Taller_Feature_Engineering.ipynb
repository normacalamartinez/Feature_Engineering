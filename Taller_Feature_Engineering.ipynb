{
 "cells": [
  {
   "cell_type": "markdown",
   "metadata": {},
   "source": [
    "<center><h1> 🤠 Taller Feature Engineering."
   ]
  },
  {
   "cell_type": "markdown",
   "metadata": {},
   "source": [
    "<br><b>Creador:</b> Norma Yuliana Cala Martínez\n",
    "<br><b>Email: </b> normisss11@gmail.com\n",
    "<br><b>Fecha creacion:</b> Septiembre 05, 2020"
   ]
  },
  {
   "cell_type": "markdown",
   "metadata": {},
   "source": [
    "#### Punto 1: Pre-Procesamiento\n",
    "\n",
    "    a. Leer el archivo `dialogos.csv` usando `pandas`\n",
    "    b. Crear una nueva columna con el texto en minúscula, sin caracteres especiales ni números y sin palabras vacias\n",
    "\n",
    "#### Punto 2: Representación vectorial\n",
    "\n",
    "    a. Crear una bolsa de palabras (BoW) del corpus usando la columna pre-procesada\n",
    "    b. ¿Cuántas palabras hay en el vocabulario? (Usando la función de `sklearn`)\n",
    "\n",
    "#### Punto 3:\n",
    "\n",
    "    a. ¿En qué casos es buena idea tomar en la cuenta la frecuencia de las palabras para la bolsa de palabras?\n",
    "    b. ¿Cuándo es una mejor idea usar una bolsa de n-gramas en vez de una bolsa de palabras?\n",
    "\n",
    "#### Punto 4:\n",
    "\n",
    "    a. ¿A qué pertenecen los dialogos del primer punto? "
   ]
  },
  {
   "cell_type": "markdown",
   "metadata": {},
   "source": [
    "## Solución de taller de Feature Engineering."
   ]
  },
  {
   "cell_type": "markdown",
   "metadata": {},
   "source": [
    "### Punto 1 😲\n",
    "a. Leer el archivo `dialogos.csv` usando `pandas` with open"
   ]
  },
  {
   "cell_type": "code",
   "execution_count": 1,
   "metadata": {},
   "outputs": [],
   "source": [
    "# Importar Librerías\n",
    "import re\n",
    "import pandas as pd\n",
    "import nltk\n",
    "#nltk.download('stopwords')\n",
    "\n",
    "from nltk.corpus import stopwords\n",
    "stopwords_sp = stopwords.words('spanish')\n",
    "\n",
    "from sklearn.feature_extraction.text import CountVectorizer\n"
   ]
  },
  {
   "cell_type": "code",
   "execution_count": 2,
   "metadata": {},
   "outputs": [
    {
     "data": {
      "text/html": [
       "<div>\n",
       "<style scoped>\n",
       "    .dataframe tbody tr th:only-of-type {\n",
       "        vertical-align: middle;\n",
       "    }\n",
       "\n",
       "    .dataframe tbody tr th {\n",
       "        vertical-align: top;\n",
       "    }\n",
       "\n",
       "    .dataframe thead th {\n",
       "        text-align: right;\n",
       "    }\n",
       "</style>\n",
       "<table border=\"1\" class=\"dataframe\">\n",
       "  <thead>\n",
       "    <tr style=\"text-align: right;\">\n",
       "      <th></th>\n",
       "      <th>locucion</th>\n",
       "    </tr>\n",
       "  </thead>\n",
       "  <tbody>\n",
       "    <tr>\n",
       "      <td>0</td>\n",
       "      <td>Francamente no</td>\n",
       "    </tr>\n",
       "    <tr>\n",
       "      <td>1</td>\n",
       "      <td>Lo del canadiense. Por favor, como que vosotro...</td>\n",
       "    </tr>\n",
       "    <tr>\n",
       "      <td>2</td>\n",
       "      <td>Tienes razón. A lo mejor así te liberas de tu ...</td>\n",
       "    </tr>\n",
       "    <tr>\n",
       "      <td>3</td>\n",
       "      <td>Pues, tú sabrás</td>\n",
       "    </tr>\n",
       "    <tr>\n",
       "      <td>4</td>\n",
       "      <td>Para mí que fue Krieger</td>\n",
       "    </tr>\n",
       "    <tr>\n",
       "      <td>5</td>\n",
       "      <td>Y por qué tienes un bebé?</td>\n",
       "    </tr>\n",
       "    <tr>\n",
       "      <td>6</td>\n",
       "      <td>Lando</td>\n",
       "    </tr>\n",
       "    <tr>\n",
       "      <td>7</td>\n",
       "      <td>En serio Randy, creo que este deporte le hizo ...</td>\n",
       "    </tr>\n",
       "    <tr>\n",
       "      <td>8</td>\n",
       "      <td>Para, estáte quieto, para</td>\n",
       "    </tr>\n",
       "    <tr>\n",
       "      <td>9</td>\n",
       "      <td>Esperad. No os ha parecido Archer un poco asus...</td>\n",
       "    </tr>\n",
       "  </tbody>\n",
       "</table>\n",
       "</div>"
      ],
      "text/plain": [
       "                                            locucion\n",
       "0                                     Francamente no\n",
       "1  Lo del canadiense. Por favor, como que vosotro...\n",
       "2  Tienes razón. A lo mejor así te liberas de tu ...\n",
       "3                                    Pues, tú sabrás\n",
       "4                            Para mí que fue Krieger\n",
       "5                          Y por qué tienes un bebé?\n",
       "6                                              Lando\n",
       "7  En serio Randy, creo que este deporte le hizo ...\n",
       "8                          Para, estáte quieto, para\n",
       "9  Esperad. No os ha parecido Archer un poco asus..."
      ]
     },
     "execution_count": 2,
     "metadata": {},
     "output_type": "execute_result"
    }
   ],
   "source": [
    "# 📝 Leer plano y visualizar la información.\n",
    "\n",
    "df = pd.read_csv(\"dialogos.csv\" , encoding=\"utf-8\")\n",
    "\n",
    "#Renombrar columna\n",
    "df = df.rename(columns={'Locución':'locucion'})\n",
    "df.head(10)"
   ]
  },
  {
   "cell_type": "markdown",
   "metadata": {},
   "source": [
    "b. Crear una nueva columna con el texto en minúscula, sin caracteres especiales ni números y sin palabras vacias"
   ]
  },
  {
   "cell_type": "code",
   "execution_count": 3,
   "metadata": {},
   "outputs": [
    {
     "data": {
      "text/html": [
       "<div>\n",
       "<style scoped>\n",
       "    .dataframe tbody tr th:only-of-type {\n",
       "        vertical-align: middle;\n",
       "    }\n",
       "\n",
       "    .dataframe tbody tr th {\n",
       "        vertical-align: top;\n",
       "    }\n",
       "\n",
       "    .dataframe thead th {\n",
       "        text-align: right;\n",
       "    }\n",
       "</style>\n",
       "<table border=\"1\" class=\"dataframe\">\n",
       "  <thead>\n",
       "    <tr style=\"text-align: right;\">\n",
       "      <th></th>\n",
       "      <th>locucion</th>\n",
       "      <th>pre_procesada</th>\n",
       "    </tr>\n",
       "  </thead>\n",
       "  <tbody>\n",
       "    <tr>\n",
       "      <td>0</td>\n",
       "      <td>Francamente no</td>\n",
       "      <td>francamente</td>\n",
       "    </tr>\n",
       "    <tr>\n",
       "      <td>1</td>\n",
       "      <td>Lo del canadiense. Por favor, como que vosotro...</td>\n",
       "      <td>canadiense favor tiraríais allí si pudieseis</td>\n",
       "    </tr>\n",
       "    <tr>\n",
       "      <td>2</td>\n",
       "      <td>Tienes razón. A lo mejor así te liberas de tu ...</td>\n",
       "      <td>razón mejor así liberas energía nagativa</td>\n",
       "    </tr>\n",
       "    <tr>\n",
       "      <td>3</td>\n",
       "      <td>Pues, tú sabrás</td>\n",
       "      <td>pues sabrás</td>\n",
       "    </tr>\n",
       "    <tr>\n",
       "      <td>4</td>\n",
       "      <td>Para mí que fue Krieger</td>\n",
       "      <td>krieger</td>\n",
       "    </tr>\n",
       "    <tr>\n",
       "      <td>...</td>\n",
       "      <td>...</td>\n",
       "      <td>...</td>\n",
       "    </tr>\n",
       "    <tr>\n",
       "      <td>954</td>\n",
       "      <td>Yo qué sé, digo yo qué será</td>\n",
       "      <td>sé digo</td>\n",
       "    </tr>\n",
       "    <tr>\n",
       "      <td>955</td>\n",
       "      <td>Lo han entendido mal. Las joyas que venden en ...</td>\n",
       "      <td>entendido mal joyas venden canales siquiera in...</td>\n",
       "    </tr>\n",
       "    <tr>\n",
       "      <td>956</td>\n",
       "      <td>Oooo... Me llamo Vivian</td>\n",
       "      <td>oooo llamo vivian</td>\n",
       "    </tr>\n",
       "    <tr>\n",
       "      <td>957</td>\n",
       "      <td>¿De dónde? ¿Del coño de tu madre?</td>\n",
       "      <td>dónde coño madre</td>\n",
       "    </tr>\n",
       "    <tr>\n",
       "      <td>958</td>\n",
       "      <td>Ah, sí esto podría funcionar</td>\n",
       "      <td>ah podría funcionar</td>\n",
       "    </tr>\n",
       "  </tbody>\n",
       "</table>\n",
       "<p>959 rows × 2 columns</p>\n",
       "</div>"
      ],
      "text/plain": [
       "                                              locucion  \\\n",
       "0                                       Francamente no   \n",
       "1    Lo del canadiense. Por favor, como que vosotro...   \n",
       "2    Tienes razón. A lo mejor así te liberas de tu ...   \n",
       "3                                      Pues, tú sabrás   \n",
       "4                              Para mí que fue Krieger   \n",
       "..                                                 ...   \n",
       "954                        Yo qué sé, digo yo qué será   \n",
       "955  Lo han entendido mal. Las joyas que venden en ...   \n",
       "956                            Oooo... Me llamo Vivian   \n",
       "957                  ¿De dónde? ¿Del coño de tu madre?   \n",
       "958                       Ah, sí esto podría funcionar   \n",
       "\n",
       "                                         pre_procesada  \n",
       "0                                          francamente  \n",
       "1         canadiense favor tiraríais allí si pudieseis  \n",
       "2             razón mejor así liberas energía nagativa  \n",
       "3                                          pues sabrás  \n",
       "4                                              krieger  \n",
       "..                                                 ...  \n",
       "954                                            sé digo  \n",
       "955  entendido mal joyas venden canales siquiera in...  \n",
       "956                                  oooo llamo vivian  \n",
       "957                                   dónde coño madre  \n",
       "958                                ah podría funcionar  \n",
       "\n",
       "[959 rows x 2 columns]"
      ]
     },
     "execution_count": 3,
     "metadata": {},
     "output_type": "execute_result"
    }
   ],
   "source": [
    "df['pre_procesada'] = df.apply(lambda row: \" \".join([palabra for palabra in re.sub(r\"[\\W\\d_]+\", \" \", row.locucion.lower()).split() if palabra not in stopwords_sp]), axis = 1) \n",
    "df"
   ]
  },
  {
   "cell_type": "markdown",
   "metadata": {},
   "source": [
    "### Punto 2 😵\n",
    "\n",
    "a. Crear una bolsa de palabras (BoW) del corpus usando la columna pre-procesada"
   ]
  },
  {
   "cell_type": "markdown",
   "metadata": {},
   "source": [
    "Bag of Words (BoW) -- Bolsa de Palabras"
   ]
  },
  {
   "cell_type": "code",
   "execution_count": 4,
   "metadata": {},
   "outputs": [
    {
     "name": "stdout",
     "output_type": "stream",
     "text": [
      "[('descaradamente', 1), ('broncos', 2), ('olvidarme', 3), ('eh', 4), ('terraza', 5), ('canal', 6), ('ustedes', 7), ('familiares', 8), ('crédito', 9), ('abracense', 10), ('secuencia', 11), ('robó', 12), ('sinceridad', 13), ('playa', 14), ('vimos', 15), ('voy', 16), ('cubrirá', 17), ('ojalá', 18), ('regla', 19), ('feas', 20), ('llévanos', 21), ('contentísimo', 22), ('cruzado', 23), ('parado', 24), ('shelly', 25), ('idiotas', 26), ('hable', 27), ('meta', 28), ('funcionará', 29), ('felizidad', 30), ('lentamente', 31), ('coge', 32), ('woodly', 33), ('buscando', 34), ('explotan', 35), ('pensar', 36), ('usan', 37), ('costoso', 38), ('sino', 39), ('florecente', 40), ('sudamérica', 41), ('clyde', 42), ('irónico', 43), ('imigración', 44), ('dura', 45), ('dar', 46), ('x', 47), ('eric', 48), ('creo', 49), ('hablando', 50), ('luces', 51), ('verdadero', 52), ('cuatrao', 53), ('ayudarme', 54), ('supuestos', 55), ('descansan', 56), ('esperé', 57), ('duró', 58), ('sacarte', 59), ('vergón', 60), ('proveyó', 61), ('parecen', 62), ('improvisaciones', 63), ('ciego', 64), ('necesario', 65), ('posan', 66), ('pantalones', 67), ('escapan', 68), ('north', 69), ('lucen', 70), ('mejorar', 71), ('canguro', 72), ('aún', 73), ('improvisable', 74), ('fastidiarse', 75), ('hablar', 76), ('negociar', 77), ('casi', 78), ('igualíto', 79), ('lógica', 80), ('sagrado', 81), ('importante', 82), ('tb', 83), ('guardar', 84), ('imbéciles', 85), ('podido', 86), ('jubilación', 87), ('china', 88), ('escaleras', 89), ('actos', 90), ('cinco', 91), ('key', 92), ('oblígame', 93), ('alquimistas', 94), ('fascinante', 95), ('claro', 96), ('significa', 97), ('pasando', 98), ('conmocionado', 99), ('salvo', 100), ('innecesariamente', 101), ('deciendo', 102), ('encargados', 103), ('llamé', 104), ('entrenador', 105), ('véte', 106), ('nagativa', 107), ('calla', 108), ('muchísimas', 109), ('virgen', 110), ('escansará', 111), ('alzheimer', 112), ('confianza', 113), ('si', 114), ('lecciones', 115), ('siglos', 116), ('quedaba', 117), ('hueca', 118), ('prioridad', 119), ('hago', 120), ('proviene', 121), ('excusas', 122), ('vagamente', 123), ('colocar', 124), ('marcador', 125), ('madre', 126), ('veas', 127), ('servicios', 128), ('coños', 129), ('serio', 130), ('sonreirémos', 131), ('juegas', 132), ('carajos', 133), ('diste', 134), ('trata', 135), ('mamá', 136), ('lleva', 137), ('entonces', 138), ('preparamos', 139), ('refería', 140), ('joventud', 141), ('señor', 142), ('diarrea', 143), ('estúpido', 144), ('mientras', 145), ('ocupado', 146), ('varias', 147), ('nuevo', 148), ('guardaré', 149), ('ten', 150), ('hai', 151), ('avanzan', 152), ('burdel', 153), ('traumas', 154), ('disparar', 155), ('divertiste', 156), ('seguridad', 157), ('tiempos', 158), ('quede', 159), ('aqui', 160), ('beba', 161), ('dado', 162), ('pues', 163), ('cuándo', 164), ('ver', 165), ('estableció', 166), ('prometer', 167), ('reformar', 168), ('disfrutar', 169), ('sospechábamos', 170), ('jugadas', 171), ('venganza', 172), ('topo', 173), ('bebe', 174), ('olvidémonos', 175), ('amable', 176), ('ves', 177), ('conducir', 178), ('wohoo', 179), ('especial', 180), ('oiga', 181), ('stines', 182), ('doritos', 183), ('sitio', 184), ('enémigo', 185), ('podría', 186), ('seguiste', 187), ('investigación', 188), ('punto', 189), ('maldítas', 190), ('producto', 191), ('trabajo', 192), ('supongo', 193), ('burlarse', 194), ('oficial', 195), ('podríamos', 196), ('altura', 197), ('daba', 198), ('subid', 199), ('programa', 200), ('balón', 201), ('matar', 202), ('stillers', 203), ('dobles', 204), ('deportaran', 205), ('comprar', 206), ('cristi', 207), ('principal', 208), ('stern', 209), ('única', 210), ('skymal', 211), ('malísima', 212), ('ocasión', 213), ('recuerdo', 214), ('división', 215), ('pidiendo', 216), ('hermosura', 217), ('cabrones', 218), ('capital', 219), ('vienes', 220), ('perdón', 221), ('token', 222), ('quince', 223), ('árbitro', 224), ('resumiendo', 225), ('prohibe', 226), ('normal', 227), ('ofrezco', 228), ('aquí', 229), ('lamentamos', 230), ('hmm', 231), ('medio', 232), ('homofóbico', 233), ('preguntas', 234), ('entendido', 235), ('archerizar', 236), ('estudian', 237), ('bebé', 238), ('dinero', 239), ('crecido', 240), ('oh', 241), ('comisionato', 242), ('gracias', 243), ('razón', 244), ('gaylandia', 245), ('conway', 246), ('sólidas', 247), ('lógico', 248), ('comisionado', 249), ('notación', 250), ('preocupes', 251), ('genitalios', 252), ('sucedido', 253), ('conchabados', 254), ('goodell', 255), ('ésa', 256), ('copas', 257), ('boca', 258), ('heróico', 259), ('felicidad', 260), ('mediante', 261), ('uah', 262), ('compasiva', 263), ('noches', 264), ('entiende', 265), ('llegar', 266), ('lindas', 267), ('aluminio', 268), ('podía', 269), ('figuro', 270), ('entrenarlos', 271), ('oigan', 272), ('dispararme', 273), ('rescatarte', 274), ('ay', 275), ('encima', 276), ('conseguido', 277), ('ven', 278), ('nueva', 279), ('desintoxicándose', 280), ('frivolidades', 281), ('foto', 282), ('brasil', 283), ('tirado', 284), ('esprema', 285), ('baño', 286), ('timó', 287), ('formas', 288), ('relleno', 289), ('abuelo', 290), ('pruebas', 291), ('memoria', 292), ('siete', 293), ('pagó', 294), ('avergonzarse', 295), ('cagando', 296), ('francamente', 297), ('comerciales', 298), ('coño', 299), ('acceso', 300), ('traficante', 301), ('yurta', 302), ('conseguir', 303), ('semana', 304), ('jim', 305), ('gastaste', 306), ('leído', 307), ('vinieramos', 308), ('patadas', 309), ('cagar', 310), ('chicos', 311), ('conté', 312), ('ningún', 313), ('sacarlo', 314), ('básicamente', 315), ('á', 316), ('cuentan', 317), ('espía', 318), ('sufro', 319), ('servicio', 320), ('canadá', 321), ('usted', 322), ('traicioneros', 323), ('dices', 324), ('agentes', 325), ('ocho', 326), ('pasarlo', 327), ('roger', 328), ('cielo', 329), ('mayor', 330), ('sabrás', 331), ('sarcasmobol', 332), ('usa', 333), ('ventana', 334), ('deseado', 335), ('poniendo', 336), ('además', 337), ('salgan', 338), ('queda', 339), ('abrazan', 340), ('siempre', 341), ('violador', 342), ('menos', 343), ('leches', 344), ('infromación', 345), ('escáneo', 346), ('llave', 347), ('primera', 348), ('franco', 349), ('cargo', 350), ('intenta', 351), ('habernos', 352), ('deberías', 353), ('tontería', 354), ('cojínes', 355), ('roba', 356), ('mamada', 357), ('joyas', 358), ('crece', 359), ('adreza', 360), ('gente', 361), ('hermanita', 362), ('compromiso', 363), ('cubierto', 364), ('cargando', 365), ('entiendes', 366), ('litro', 367), ('cheryl', 368), ('confundirme', 369), ('cargar', 370), ('kyle', 371), ('dio', 372), ('apuesto', 373), ('globo', 374), ('bebemos', 375), ('cartman', 376), ('krieger', 377), ('pendiente', 378), ('sabes', 379), ('necesito', 380), ('transferencia', 381), ('inventor', 382), ('símbolo', 383), ('jolín', 384), ('callas', 385), ('varios', 386), ('definitivamente', 387), ('mover', 388), ('reemplazar', 389), ('caríta', 390), ('cascos', 391), ('mire', 392), ('cubrirlo', 393), ('va', 394), ('mujer', 395), ('seis', 396), ('cuarto', 397), ('necesidad', 398), ('rojo', 399), ('acepta', 400), ('majo', 401), ('south', 402), ('nacional', 403), ('seguro', 404), ('rico', 405), ('sedes', 406), ('mercado', 407), ('racista', 408), ('robo', 409), ('ibas', 410), ('problema', 411), ('gustof', 412), ('ray', 413), ('acorazada', 414), ('espere', 415), ('generó', 416), ('negativo', 417), ('oídos', 418), ('mala', 419), ('tragado', 420), ('conductos', 421), ('verla', 422), ('mismo', 423), ('dónde', 424), ('imponentes', 425), ('canadiense', 426), ('sujeto', 427), ('equipo', 428), ('acabe', 429), ('tal', 430), ('collar', 431), ('decía', 432), ('listos', 433), ('vuélvete', 434), ('señora', 435), ('sopearte', 436), ('cuál', 437), ('kay', 438), ('minuto', 439), ('cielos', 440), ('enojemos', 441), ('permiten', 442), ('huecos', 443), ('cabra', 444), ('grámos', 445), ('bendíto', 446), ('cierra', 447), ('funciona', 448), ('quizás', 449), ('propulsor', 450), ('siquiera', 451), ('quatorce', 452), ('siguiente', 453), ('crucial', 454), ('queríamos', 455), ('todas', 456), ('butters', 457), ('g', 458), ('ofrece', 459), ('ojos', 460), ('pensarlo', 461), ('streling', 462), ('ayer', 463), ('dejadme', 464), ('batido', 465), ('latino', 466), ('relación', 467), ('caemos', 468), ('avisárselo', 469), ('sólidos', 470), ('bárbaros', 471), ('vestidos', 472), ('detenernos', 473), ('venimos', 474), ('disculpe', 475), ('alias', 476), ('dios', 477), ('perdidio', 478), ('sostenes', 479), ('vas', 480), ('emocionante', 481), ('práctica', 482), ('lindo', 483), ('muchas', 484), ('matáis', 485), ('darte', 486), ('doy', 487), ('hacen', 488), ('bigotón', 489), ('ponedlas', 490), ('chúpamela', 491), ('dijiste', 492), ('buscar', 493), ('porquería', 494), ('llamarlos', 495), ('espermas', 496), ('llamativo', 497), ('asustó', 498), ('licencia', 499), ('humo', 500), ('víctimas', 501), ('hizo', 502), ('reunión', 503), ('pasta', 504), ('tirarte', 505), ('mandaste', 506), ('química', 507), ('compasíbles', 508), ('decirle', 509), ('keith', 510), ('mierda', 511), ('cuántas', 512), ('alegra', 513), ('maní', 514), ('pillar', 515), ('excelente', 516), ('apuntado', 517), ('único', 518), ('pastel', 519), ('sostén', 520), ('duda', 521), ('pegas', 522), ('papá', 523), ('empeño', 524), ('decidíamos', 525), ('maestros', 526), ('fuma', 527), ('usar', 528), ('familia', 529), ('chupe', 530), ('espalda', 531), ('médica', 532), ('hico', 533), ('rebalsa', 534), ('toquecíto', 535), ('presidencia', 536), ('gustaría', 537), ('después', 538), ('pasado', 539), ('come', 540), ('jodedor', 541), ('tí', 542), ('llamado', 543), ('inaugural', 544), ('cíborg', 545), ('parecido', 546), ('legal', 547), ('nadie', 548), ('malo', 549), ('pedir', 550), ('literalment', 551), ('saluda', 552), ('encantaría', 553), ('té', 554), ('cállate', 555), ('enfrentamiento', 556), ('cilo', 557), ('sistema', 558), ('llevara', 559), ('creía', 560), ('darle', 561), ('ira', 562), ('debemos', 563), ('corten', 564), ('monstruo', 565), ('terminado', 566), ('jugar', 567), ('quise', 568), ('ganan', 569), ('ahora', 570), ('castaña', 571), ('militar', 572), ('feliz', 573), ('estó', 574), ('ocurrió', 575), ('comida', 576), ('multicampo', 577), ('darme', 578), ('pensamientos', 579), ('cáncer', 580), ('novatos', 581), ('hacéis', 582), ('resuelven', 583), ('dejarme', 584), ('primero', 585), ('debo', 586), ('calvos', 587), ('cualquiera', 588), ('robot', 589), ('mai', 590), ('mirad', 591), ('leccion', 592), ('quítate', 593), ('homófoba', 594), ('osíto', 595), ('abrazas', 596), ('gentil', 597), ('cutre', 598), ('cogerla', 599), ('dispararan', 600), ('encuentra', 601), ('alguién', 602), ('puto', 603), ('oigo', 604), ('enfermedades', 605), ('debilidad', 606), ('alguna', 607), ('copa', 608), ('pañales', 609), ('blindado', 610), ('puse', 611), ('iba', 612), ('pan', 613), ('llama', 614), ('amor', 615), ('maravilloso', 616), ('primer', 617), ('parecerse', 618), ('bell', 619), ('agradecernos', 620), ('ofrecerías', 621), ('pistola', 622), ('aire', 623), ('clavos', 624), ('cúbreme', 625), ('canales', 626), ('acero', 627), ('brasilia', 628), ('hija', 629), ('gane', 630), ('años', 631), ('analogía', 632), ('trajera', 633), ('disparado', 634), ('aprovechar', 635), ('bebida', 636), ('molesta', 637), ('bordado', 638), ('literalmente', 639), ('compasivos', 640), ('simulacro', 641), ('díle', 642), ('imaginario', 643), ('mega', 644), ('salir', 645), ('ganando', 646), ('abrazar', 647), ('sesiones', 648), ('pipa', 649), ('ley', 650), ('fin', 651), ('mentiste', 652), ('estadísticas', 653), ('ríe', 654), ('olvídense', 655), ('despistar', 656), ('ocultarlo', 657), ('vieja', 658), ('acceder', 659), ('lugar', 660), ('pondría', 661), ('viviría', 662), ('fuerte', 663), ('encragaré', 664), ('amaba', 665), ('stan', 666), ('agotado', 667), ('lastimado', 668), ('derrotar', 669), ('hacerle', 670), ('árbitros', 671), ('contárselo', 672), ('usarla', 673), ('broma', 674), ('nombre', 675), ('creerlo', 676), ('compasión', 677), ('quiénes', 678), ('aliado', 679), ('linda', 680), ('operación', 681), ('dice', 682), ('demasiado', 683), ('sigas', 684), ('cin', 685), ('fiarme', 686), ('espera', 687), ('directa', 688), ('efectivo', 689), ('identificación', 690), ('meneara', 691), ('éxito', 692), ('robaron', 693), ('buen', 694), ('promoción', 695), ('vestidor', 696), ('emociona', 697), ('liga', 698), ('días', 699), ('pedido', 700), ('puedas', 701), ('improbable', 702), ('cerca', 703), ('parezcas', 704), ('niña', 705), ('saben', 706), ('llevaba', 707), ('inmaduro', 708), ('indicado', 709), ('entrega', 710), ('confundido', 711), ('salchicha', 712), ('ayudarían', 713), ('energía', 714), ('escuche', 715), ('dan', 716), ('conoce', 717), ('cloro', 718), ('bienvenida', 719), ('envidia', 720), ('órdenes', 721), ('hermosos', 722), ('bienvenidos', 723), ('terminar', 724), ('traicionó', 725), ('sumamos', 726), ('clavado', 727), ('llamamos', 728), ('positivo', 729), ('así', 730), ('laboratorio', 731), ('pesadilla', 732), ('país', 733), ('denver', 734), ('sirven', 735), ('tarjeta', 736), ('nieto', 737), ('intentar', 738), ('gustará', 739), ('jugando', 740), ('archer', 741), ('procura', 742), ('pregunto', 743), ('harrys', 744), ('reventa', 745), ('fondos', 746), ('mansiones', 747), ('voz', 748), ('fundimos', 749), ('escuelas', 750), ('puedes', 751), ('tomemos', 752), ('alumnos', 753), ('lastimen', 754), ('dense', 755), ('permiteme', 756), ('momento', 757), ('regalado', 758), ('vuelvo', 759), ('contar', 760), ('cría', 761), ('padres', 762), ('atención', 763), ('contexto', 764), ('féliz', 765), ('tobillos', 766), ('riders', 767), ('recibe', 768), ('callados', 769), ('competitividad', 770), ('compañeros', 771), ('ponerte', 772), ('cómo', 773), ('consiento', 774), ('justo', 775), ('collares', 776), ('vivian', 777), ('deportes', 778), ('pam', 779), ('rancasteis', 780), ('ofrecerte', 781), ('prueba', 782), ('sacamos', 783), ('hacerte', 784), ('ausencia', 785), ('haz', 786), ('amables', 787), ('patos', 788), ('patches', 789), ('empiezo', 790), ('rato', 791), ('sido', 792), ('oye', 793), ('escupieras', 794), ('oro', 795), ('pronuncia', 796), ('sufriendo', 797), ('bebés', 798), ('bikini', 799), ('llamo', 800), ('echar', 801), ('refiero', 802), ('confidencial', 803), ('acompaña', 804), ('muchachos', 805), ('auto', 806), ('falsos', 807), ('crezcas', 808), ('buscarán', 809), ('tíos', 810), ('durmiendo', 811), ('seaís', 812), ('pelígro', 813), ('excusado', 814), ('producen', 815), ('vieron', 816), ('criar', 817), ('claramente', 818), ('américa', 819), ('hagamos', 820), ('felices', 821), ('animal', 822), ('llames', 823), ('tecnología', 824), ('edad', 825), ('pillarte', 826), ('tomar', 827), ('escuchar', 828), ('reales', 829), ('maldíta', 830), ('cuanto', 831), ('realidad', 832), ('refuerzos', 833), ('significaba', 834), ('volvió', 835), ('pregunta', 836), ('queremos', 837), ('peluche', 838), ('retina', 839), ('dejarle', 840), ('partida', 841), ('venir', 842), ('suerte', 843), ('nevera', 844), ('juntos', 845), ('excesivo', 846), ('jamontillado', 847), ('cabras', 848), ('deseas', 849), ('jode', 850), ('demás', 851), ('juegen', 852), ('viernes', 853), ('jugarlo', 854), ('buenas', 855), ('archivo', 856), ('llaves', 857), ('mirándolo', 858), ('miente', 859), ('unas', 860), ('abra', 861), ('sueños', 862), ('servidor', 863), ('ofrecer', 864), ('compra', 865), ('deportiva', 866), ('cambiará', 867), ('traer', 868), ('presionar', 869), ('día', 870), ('intente', 871), ('hielo', 872), ('aceptamos', 873), ('tranquila', 874), ('hacernos', 875), ('esmeralda', 876), ('hermosa', 877), ('pérdida', 878), ('oso', 879), ('viejos', 880), ('negamos', 881), ('nervioso', 882), ('ejemplo', 883), ('suficientes', 884), ('vuelta', 885), ('cordón', 886), ('conocéis', 887), ('pido', 888), ('indica', 889), ('acercarse', 890), ('francesa', 891), ('insultos', 892), ('slater', 893), ('enmendarlo', 894), ('aquel', 895), ('patear', 896), ('jodo', 897), ('dejar', 898), ('abracen', 899), ('llamarás', 900), ('caso', 901), ('asustado', 902), ('buscad', 903), ('timarnos', 904), ('aburato', 905), ('interior', 906), ('salió', 907), ('harémos', 908), ('recargando', 909), ('mano', 910), ('dos', 911), ('esperad', 912), ('realista', 913), ('encuentren', 914), ('zona', 915), ('tipi', 916), ('rayo', 917), ('descubierto', 918), ('despierto', 919), ('demos', 920), ('ascani', 921), ('decide', 922), ('matas', 923), ('fallecer', 924), ('entregarte', 925), ('podemos', 926), ('profesional', 927), ('valiosas', 928), ('mitade', 929), ('parar', 930), ('algún', 931), ('necesitas', 932), ('tiempo', 933), ('seguimos', 934), ('invito', 935), ('demostrando', 936), ('vender', 937), ('sacaste', 938), ('noventa', 939), ('asiáticas', 940), ('terminen', 941), ('tóma', 942), ('haría', 943), ('doctor', 944), ('generoso', 945), ('allí', 946), ('pago', 947), ('gramo', 948), ('jefe', 949), ('culpa', 950), ('capitán', 951), ('despeché', 952), ('representante', 953), ('conmociones', 954), ('pico', 955), ('conmigo', 956), ('tercera', 957), ('fórmula', 958), ('pongas', 959), ('esfuerzo', 960), ('excuso', 961), ('vendría', 962), ('conversación', 963), ('placer', 964), ('cuarenta', 965), ('cantante', 966), ('mejoró', 967), ('joderla', 968), ('park', 969), ('rey', 970), ('espectadores', 971), ('niño', 972), ('sujetes', 973), ('mejorarlo', 974), ('llevamos', 975), ('tienda', 976), ('tantos', 977), ('llamas', 978), ('mentía', 979), ('cámara', 980), ('detrás', 981), ('juega', 982), ('loco', 983), ('ancha', 984), ('cinquenta', 985), ('quidaras', 986), ('quilates', 987), ('paracaigas', 988), ('disparan', 989), ('juego', 990), ('rendirse', 991), ('ayúdame', 992), ('guardadas', 993), ('plan', 994), ('ello', 995), ('primo', 996), ('genios', 997), ('portado', 998), ('preocupados', 999), ('di', 1000), ('cyril', 1001), ('recuerdenlo', 1002), ('lugares', 1003), ('burrito', 1004), ('parece', 1005), ('lana', 1006), ('efectos', 1007), ('prefiero', 1008), ('pobrecito', 1009), ('cuatro', 1010), ('luego', 1011), ('ocurriendo', 1012), ('confiar', 1013), ('dando', 1014), ('habitación', 1015), ('par', 1016), ('pastor', 1017), ('carrachi', 1018), ('saquen', 1019), ('recuerda', 1020), ('enrique', 1021), ('debe', 1022), ('m', 1023), ('sabe', 1024), ('viene', 1025), ('apta', 1026), ('soluciona', 1027), ('idiota', 1028), ('abastecido', 1029), ('billones', 1030), ('torpe', 1031), ('continúe', 1032), ('cremosidad', 1033), ('provocar', 1034), ('fresco', 1035), ('super', 1036), ('tres', 1037), ('duelen', 1038), ('puedo', 1039), ('pásalo', 1040), ('inteligencia', 1041), ('sangre', 1042), ('modificando', 1043), ('norths', 1044), ('saca', 1045), ('váter', 1046), ('chica', 1047), ('pueda', 1048), ('muchísimo', 1049), ('transmisión', 1050), ('señal', 1051), ('pateamos', 1052), ('teléfonos', 1053), ('sincero', 1054), ('usando', 1055), ('inventó', 1056), ('convertirlo', 1057), ('oído', 1058), ('selector', 1059), ('estudiando', 1060), ('dijo', 1061), ('esperándome', 1062), ('secuestrado', 1063), ('frente', 1064), ('veo', 1065), ('fácilmente', 1066), ('empanada', 1067), ('marca', 1068), ('descubra', 1069), ('cola', 1070), ('partir', 1071), ('escoria', 1072), ('quieren', 1073), ('cuidar', 1074), ('investigaciones', 1075), ('ex', 1076), ('conocido', 1077), ('gusta', 1078), ('entusiasma', 1079), ('cremoso', 1080), ('humanidad', 1081), ('strip', 1082), ('fácil', 1083), ('frase', 1084), ('gustarán', 1085), ('trabaja', 1086), ('puñado', 1087), ('creciente', 1088), ('salto', 1089), ('gas', 1090), ('controles', 1091), ('pinta', 1092), ('tono', 1093), ('sombreros', 1094), ('gordado', 1095), ('avión', 1096), ('busca', 1097), ('implicaré', 1098), ('sosténes', 1099), ('intentado', 1100), ('cosas', 1101), ('levanta', 1102), ('iban', 1103), ('turquesa', 1104), ('hecho', 1105), ('relajar', 1106), ('elección', 1107), ('sufras', 1108), ('ayudarémos', 1109), ('lograr', 1110), ('cuadras', 1111), ('retribución', 1112), ('esperando', 1113), ('decirles', 1114), ('gritan', 1115), ('deje', 1116), ('rimó', 1117), ('aprovecharse', 1118), ('gruño', 1119), ('contarle', 1120), ('suéltalas', 1121), ('acuerdas', 1122), ('pongamoslo', 1123), ('cogerlas', 1124), ('crear', 1125), ('sharon', 1126), ('proteger', 1127), ('recordadme', 1128), ('nfl', 1129), ('niños', 1130), ('venga', 1131), ('mujeres', 1132), ('equación', 1133), ('querré', 1134), ('locos', 1135), ('movimiento', 1136), ('abrochame', 1137), ('cosa', 1138), ('tapadera', 1139), ('arrancaste', 1140), ('salirse', 1141), ('formar', 1142), ('terminarse', 1143), ('jerez', 1144), ('sabía', 1145), ('ultramoderna', 1146), ('deja', 1147), ('descortéz', 1148), ('acabas', 1149), ('río', 1150), ('ocupe', 1151), ('ser', 1152), ('visto', 1153), ('ciencia', 1154), ('lleve', 1155), ('auténticos', 1156), ('negocio', 1157), ('cabo', 1158), ('méxicano', 1159), ('corazón', 1160), ('igual', 1161), ('chúpalas', 1162), ('metería', 1163), ('dicho', 1164), ('golpeen', 1165), ('llamaría', 1166), ('ordenador', 1167), ('botella', 1168), ('paquistaní', 1169), ('cálido', 1170), ('ben', 1171), ('consultemos', 1172), ('retiramos', 1173), ('duro', 1174), ('protesto', 1175), ('desangrando', 1176), ('decirémos', 1177), ('jilibollas', 1178), ('llamen', 1179), ('directamente', 1180), ('enviarlo', 1181), ('garage', 1182), ('correrá', 1183), ('poner', 1184), ('acabo', 1185), ('ofertas', 1186), ('consigo', 1187), ('sucios', 1188), ('ninguna', 1189), ('pareczo', 1190), ('debería', 1191), ('complicado', 1192), ('refiere', 1193), ('puñalara', 1194), ('cochecíto', 1195), ('cuesta', 1196), ('animadoras', 1197), ('bien', 1198), ('sentir', 1199), ('fundidor', 1200), ('gustan', 1201), ('futból', 1202), ('dispararon', 1203), ('detuvo', 1204), ('eleve', 1205), ('informático', 1206), ('evitar', 1207), ('modo', 1208), ('mali', 1209), ('uy', 1210), ('mmm', 1211), ('club', 1212), ('sentiría', 1213), ('quienquiera', 1214), ('ciertamente', 1215), ('falta', 1216), ('biónica', 1217), ('toda', 1218), ('veía', 1219), ('sacad', 1220), ('actuante', 1221), ('brazaletes', 1222), ('diez', 1223), ('ponle', 1224), ('ventas', 1225), ('porcuro', 1226), ('espaldas', 1227), ('creemos', 1228), ('infierno', 1229), ('amigos', 1230), ('joder', 1231), ('libre', 1232), ('resto', 1233), ('ojo', 1234), ('hora', 1235), ('mato', 1236), ('hmmm', 1237), ('quitado', 1238), ('sol', 1239), ('término', 1240), ('montar', 1241), ('papel', 1242), ('regresando', 1243), ('licores', 1244), ('arrancó', 1245), ('escolares', 1246), ('marsh', 1247), ('uuh', 1248), ('extra', 1249), ('cabrearme', 1250), ('caray', 1251), ('mejora', 1252), ('mejor', 1253), ('brazos', 1254), ('lleguen', 1255), ('llamar', 1256), ('sientes', 1257), ('dispares', 1258), ('hablarémos', 1259), ('lleves', 1260), ('vamos', 1261), ('cánada', 1262), ('área', 1263), ('vuelvas', 1264), ('incluida', 1265), ('familiar', 1266), ('desaparecido', 1267), ('cartél', 1268), ('minutos', 1269), ('sabemos', 1270), ('mal', 1271), ('interrupciones', 1272), ('pusiste', 1273), ('tendrémos', 1274), ('dama', 1275), ('cojones', 1276), ('esperar', 1277), ('verás', 1278), ('tacos', 1279), ('amo', 1280), ('operan', 1281), ('récien', 1282), ('baruk', 1283), ('india', 1284), ('platos', 1285), ('craqueoso', 1286), ('parió', 1287), ('volver', 1288), ('venido', 1289), ('europa', 1290), ('defensor', 1291), ('buena', 1292), ('veintiquatro', 1293), ('brazaleta', 1294), ('deberían', 1295), ('llega', 1296), ('haber', 1297), ('preguntado', 1298), ('deporte', 1299), ('rome', 1300), ('cero', 1301), ('digan', 1302), ('damos', 1303), ('desangras', 1304), ('cago', 1305), ('sarcasmo', 1306), ('agradezca', 1307), ('preocupado', 1308), ('comer', 1309), ('cierrate', 1310), ('decías', 1311), ('hambre', 1312), ('traidor', 1313), ('sueño', 1314), ('esqueleto', 1315), ('llamemos', 1316), ('trece', 1317), ('bastante', 1318), ('sofá', 1319), ('juro', 1320), ('cansamos', 1321), ('fondo', 1322), ('marchando', 1323), ('pasar', 1324), ('quedarás', 1325), ('cree', 1326), ('robotizado', 1327), ('comprará', 1328), ('cabrón', 1329), ('jodemos', 1330), ('domésticos', 1331), ('tremendo', 1332), ('paties', 1333), ('conduce', 1334), ('batir', 1335), ('asustar', 1336), ('salid', 1337), ('misión', 1338), ('gritar', 1339), ('genuinos', 1340), ('dólares', 1341), ('corbata', 1342), ('quieto', 1343), ('pidiera', 1344), ('cállaos', 1345), ('llevarse', 1346), ('nuevas', 1347), ('verá', 1348), ('hablaste', 1349), ('amenazar', 1350), ('recibir', 1351), ('fotos', 1352), ('guapa', 1353), ('aquella', 1354), ('santo', 1355), ('escocés', 1356), ('pensando', 1357), ('móvil', 1358), ('amenazado', 1359), ('sede', 1360), ('fundir', 1361), ('ochenta', 1362), ('practicar', 1363), ('segura', 1364), ('cantidades', 1365), ('pena', 1366), ('centro', 1367), ('existe', 1368), ('perstigioso', 1369), ('calrissiano', 1370), ('multiracial', 1371), ('pobre', 1372), ('aprendiendo', 1373), ('hará', 1374), ('brasileño', 1375), ('barra', 1376), ('robando', 1377), ('llámame', 1378), ('bebas', 1379), ('lado', 1380), ('tenerla', 1381), ('cartas', 1382), ('viejo', 1383), ('peso', 1384), ('cambiar', 1385), ('aubuelo', 1386), ('explicar', 1387), ('lamernos', 1388), ('ken', 1389), ('canguros', 1390), ('acerca', 1391), ('argentina', 1392), ('color', 1393), ('pibe', 1394), ('comodines', 1395), ('jhonsson', 1396), ('burbón', 1397), ('especiales', 1398), ('narices', 1399), ('k', 1400), ('miren', 1401), ('sábado', 1402), ('hacia', 1403), ('ninguno', 1404), ('pensaba', 1405), ('haciendo', 1406), ('televisión', 1407), ('cara', 1408), ('ofensiva', 1409), ('alegría', 1410), ('veímos', 1411), ('convertir', 1412), ('difícil', 1413), ('mira', 1414), ('sterling', 1415), ('dame', 1416), ('david', 1417), ('adentro', 1418), ('comprendemos', 1419), ('quiero', 1420), ('basa', 1421), ('última', 1422), ('contrario', 1423), ('acabó', 1424), ('busco', 1425), ('favor', 1426), ('genial', 1427), ('quedaríamos', 1428), ('excusa', 1429), ('contado', 1430), ('peletero', 1431), ('apoyo', 1432), ('regalo', 1433), ('entrando', 1434), ('correcto', 1435), ('tejido', 1436), ('aceptarlo', 1437), ('browns', 1438), ('prácticamente', 1439), ('tiros', 1440), ('sólo', 1441), ('kane', 1442), ('cráneo', 1443), ('podrías', 1444), ('pienso', 1445), ('subir', 1446), ('secreto', 1447), ('gusto', 1448), ('pasó', 1449), ('verdad', 1450), ('siesta', 1451), ('bando', 1452), ('esposa', 1453), ('fanático', 1454), ('siento', 1455), ('sigues', 1456), ('aprovechen', 1457), ('ah', 1458), ('pierde', 1459), ('mueras', 1460), ('vase', 1461), ('amenaza', 1462), ('dividimos', 1463), ('martín', 1464), ('niñera', 1465), ('violadores', 1466), ('impresionar', 1467), ('hablas', 1468), ('chisme', 1469), ('cuestión', 1470), ('decírselo', 1471), ('voluntad', 1472), ('repente', 1473), ('isis', 1474), ('delantera', 1475), ('número', 1476), ('dijeron', 1477), ('odia', 1478), ('abogada', 1479), ('siguiera', 1480), ('relleníta', 1481), ('puta', 1482), ('atrape', 1483), ('compramos', 1484), ('disculpas', 1485), ('jueguen', 1486), ('tocado', 1487), ('boom', 1488), ('refranes', 1489), ('hacerlo', 1490), ('flecha', 1491), ('quedo', 1492), ('bajos', 1493), ('compasivo', 1494), ('dije', 1495), ('joderme', 1496), ('acaso', 1497), ('hacemos', 1498), ('acompañar', 1499), ('desgraciado', 1500), ('dentro', 1501), ('hablamos', 1502), ('persona', 1503), ('vendrá', 1504), ('pocos', 1505), ('hijo', 1506), ('esclavizados', 1507), ('piensas', 1508), ('poker', 1509), ('apunta', 1510), ('escuchen', 1511), ('necesitaré', 1512), ('extrañará', 1513), ('menudo', 1514), ('armas', 1515), ('fuertemente', 1516), ('parecemos', 1517), ('mata', 1518), ('mes', 1519), ('dólar', 1520), ('barbaridades', 1521), ('enfestar', 1522), ('ciber', 1523), ('llevan', 1524), ('nuevos', 1525), ('bienvenido', 1526), ('prometo', 1527), ('vida', 1528), ('pagar', 1529), ('vale', 1530), ('comprenlo', 1531), ('sucia', 1532), ('veces', 1533), ('lineación', 1534), ('washington', 1535), ('equivocado', 1536), ('grupo', 1537), ('tradicional', 1538), ('robado', 1539), ('dejarlo', 1540), ('compren', 1541), ('sentaré', 1542), ('visita', 1543), ('country', 1544), ('lexington', 1545), ('encantan', 1546), ('quién', 1547), ('palabra', 1548), ('acuerdo', 1549), ('despeto', 1550), ('cambios', 1551), ('nube', 1552), ('hagámoslo', 1553), ('gregors', 1554), ('quere', 1555), ('corbatas', 1556), ('personas', 1557), ('necesitamos', 1558), ('avisarme', 1559), ('horatio', 1560), ('caballero', 1561), ('verdadera', 1562), ('cristal', 1563), ('puede', 1564), ('materna', 1565), ('puntos', 1566), ('estrella', 1567), ('llamara', 1568), ('vayas', 1569), ('seguidores', 1570), ('aha', 1571), ('carambola', 1572), ('perro', 1573), ('dudo', 1574), ('hicimos', 1575), ('bourbon', 1576), ('carteles', 1577), ('romperé', 1578), ('acaba', 1579), ('intermediarios', 1580), ('necesita', 1581), ('felicitaciones', 1582), ('veamos', 1583), ('aires', 1584), ('venden', 1585), ('pudiera', 1586), ('quería', 1587), ('tan', 1588), ('tanzanita', 1589), ('frecuente', 1590), ('solo', 1591), ('junto', 1592), ('verbo', 1593), ('comprador', 1594), ('ganas', 1595), ('asta', 1596), ('tequila', 1597), ('cuidado', 1598), ('datos', 1599), ('perfil', 1600), ('domingo', 1601), ('da', 1602), ('información', 1603), ('cerrado', 1604), ('pelo', 1605), ('sesos', 1606), ('finde', 1607), ('intentaron', 1608), ('envían', 1609), ('hacer', 1610), ('negó', 1611), ('cien', 1612), ('decir', 1613), ('haga', 1614), ('atleta', 1615), ('profesionales', 1616), ('miro', 1617), ('hoy', 1618), ('bueno', 1619), ('acabado', 1620), ('mañana', 1621), ('contento', 1622), ('anuales', 1623), ('llevaría', 1624), ('daño', 1625), ('saltar', 1626), ('pidió', 1627), ('amistad', 1628), ('aprovecha', 1629), ('urdu', 1630), ('rusos', 1631), ('sabían', 1632), ('triste', 1633), ('intenten', 1634), ('libres', 1635), ('fuerzas', 1636), ('laboralista', 1637), ('testamento', 1638), ('hablo', 1639), ('tetfield', 1640), ('v', 1641), ('azúcar', 1642), ('chovinista', 1643), ('devolvemos', 1644), ('aviso', 1645), ('necesites', 1646), ('ancianos', 1647), ('líamos', 1648), ('funcionar', 1649), ('enormes', 1650), ('asiática', 1651), ('uh', 1652), ('tomo', 1653), ('bellici', 1654), ('temas', 1655), ('bolsa', 1656), ('notaria', 1657), ('paquistán', 1658), ('sube', 1659), ('interesante', 1660), ('limón', 1661), ('faux', 1662), ('wow', 1663), ('tranquilo', 1664), ('futuro', 1665), ('jodiendo', 1666), ('romper', 1667), ('suelo', 1668), ('rayos', 1669), ('armería', 1670), ('jugador', 1671), ('cerramos', 1672), ('hagas', 1673), ('ganador', 1674), ('casa', 1675), ('parte', 1676), ('confunden', 1677), ('buenos', 1678), ('tutora', 1679), ('pasarse', 1680), ('cuenta', 1681), ('entendemos', 1682), ('autorizada', 1683), ('tomen', 1684), ('bébe', 1685), ('nueve', 1686), ('haberle', 1687), ('pilas', 1688), ('lando', 1689), ('pequeña', 1690), ('vuelva', 1691), ('jordana', 1692), ('arma', 1693), ('pueden', 1694), ('terríble', 1695), ('prestame', 1696), ('custodiada', 1697), ('puñalarme', 1698), ('intento', 1699), ('jackson', 1700), ('siguen', 1701), ('sevidor', 1702), ('oakland', 1703), ('miel', 1704), ('identidad', 1705), ('volvería', 1706), ('perdido', 1707), ('hola', 1708), ('paciente', 1709), ('llevas', 1710), ('rondie', 1711), ('cada', 1712), ('contratado', 1713), ('murió', 1714), ('salchichas', 1715), ('sangrientas', 1716), ('amabilidad', 1717), ('valor', 1718), ('mesas', 1719), ('amamos', 1720), ('permanente', 1721), ('mexicanos', 1722), ('trabajamos', 1723), ('sabor', 1724), ('atreven', 1725), ('culpable', 1726), ('cuestan', 1727), ('estáte', 1728), ('café', 1729), ('hermana', 1730), ('tener', 1731), ('jodas', 1732), ('estabáis', 1733), ('uniformes', 1734), ('averiguarémos', 1735), ('preocupación', 1736), ('joden', 1737), ('estudo', 1738), ('llevando', 1739), ('espero', 1740), ('gicante', 1741), ('precios', 1742), ('esperma', 1743), ('voto', 1744), ('chinos', 1745), ('vaya', 1746), ('peor', 1747), ('interpretar', 1748), ('socios', 1749), ('craig', 1750), ('increíble', 1751), ('arriba', 1752), ('secas', 1753), ('paso', 1754), ('sale', 1755), ('hospitalidad', 1756), ('coronel', 1757), ('quiere', 1758), ('beber', 1759), ('muchachas', 1760), ('provoca', 1761), ('violencia', 1762), ('resulta', 1763), ('mucha', 1764), ('despechada', 1765), ('laboral', 1766), ('stanley', 1767), ('fuego', 1768), ('quisiera', 1769), ('pegado', 1770), ('intención', 1771), ('calor', 1772), ('elegir', 1773), ('sacas', 1774), ('hablemos', 1775), ('intentan', 1776), ('réplica', 1777), ('victoria', 1778), ('economía', 1779), ('pelotas', 1780), ('randy', 1781), ('totalmente', 1782), ('ábrelo', 1783), ('hombre', 1784), ('mundo', 1785), ('armado', 1786), ('cientos', 1787), ('j', 1788), ('vez', 1789), ('algúno', 1790), ('poder', 1791), ('balas', 1792), ('masticaras', 1793), ('oferta', 1794), ('línea', 1795), ('amigo', 1796), ('pondré', 1797), ('aretes', 1798), ('camaradería', 1799), ('real', 1800), ('cal', 1801), ('llevar', 1802), ('compran', 1803), ('mike', 1804), ('saco', 1805), ('sola', 1806), ('diré', 1807), ('jóven', 1808), ('caña', 1809), ('cuentas', 1810), ('payton', 1811), ('hijos', 1812), ('comienzan', 1813), ('eráis', 1814), ('sacado', 1815), ('ligas', 1816), ('kilítos', 1817), ('deberíamos', 1818), ('importantes', 1819), ('saldrémos', 1820), ('maneja', 1821), ('concozco', 1822), ('gorda', 1823), ('atrapa', 1824), ('harás', 1825), ('oy', 1826), ('vuelve', 1827), ('mate', 1828), ('quedará', 1829), ('palmadas', 1830), ('villy', 1831), ('interesantes', 1832), ('determinen', 1833), ('maldito', 1834), ('calle', 1835), ('noche', 1836), ('camradería', 1837), ('diamantes', 1838), ('mexicano', 1839), ('irme', 1840), ('llamó', 1841), ('mente', 1842), ('clave', 1843), ('creer', 1844), ('cenar', 1845), ('freelance', 1846), ('decirme', 1847), ('grandes', 1848), ('resolverlo', 1849), ('fastidies', 1850), ('grande', 1851), ('pedirnos', 1852), ('cuatorce', 1853), ('año', 1854), ('tomándose', 1855), ('cambio', 1856), ('practicamos', 1857), ('aplauso', 1858), ('ayuda', 1859), ('fundió', 1860), ('limusina', 1861), ('aprendimos', 1862), ('refrán', 1863), ('campo', 1864), ('cia', 1865), ('woodhouse', 1866), ('nunca', 1867), ('advierto', 1868), ('sorpresas', 1869), ('pistol', 1870), ('lunes', 1871), ('precio', 1872), ('tac', 1873), ('inicial', 1874), ('golpes', 1875), ('manos', 1876), ('asunto', 1877), ('veinte', 1878), ('genéticas', 1879), ('mentirosa', 1880), ('dispararé', 1881), ('cena', 1882), ('moda', 1883), ('azotea', 1884), ('maritin', 1885), ('malin', 1886), ('alguien', 1887), ('encontrarán', 1888), ('leche', 1889), ('necesarias', 1890), ('tiro', 1891), ('saludarás', 1892), ('pai', 1893), ('millones', 1894), ('pisos', 1895), ('agradecerte', 1896), ('esmeraldas', 1897), ('papás', 1898), ('padre', 1899), ('jodiéndola', 1900), ('provienen', 1901), ('realmente', 1902), ('cartel', 1903), ('montado', 1904), ('carácter', 1905), ('comenzó', 1906), ('volar', 1907), ('regresemos', 1908), ('cosquillas', 1909), ('caballeros', 1910), ('aunque', 1911), ('jesús', 1912), ('argentio', 1913), ('camisa', 1914), ('jugo', 1915), ('dícelo', 1916), ('experiencia', 1917), ('iluminarse', 1918), ('recuerdas', 1919), ('siendo', 1920), ('tiraríais', 1921), ('señala', 1922), ('falsa', 1923), ('safiros', 1924), ('perfecto', 1925), ('sabías', 1926), ('perder', 1927), ('importa', 1928), ('haces', 1929), ('ve', 1930), ('antimatéria', 1931), ('ocurrir', 1932), ('usado', 1933), ('colarnos', 1934), ('salidos', 1935), ('quizá', 1936), ('herir', 1937), ('manera', 1938), ('corbatíta', 1939), ('sé', 1940), ('maquillaron', 1941), ('todavía', 1942), ('sacará', 1943), ('ropa', 1944), ('pego', 1945), ('escuela', 1946), ('verte', 1947), ('central', 1948), ('sepa', 1949), ('vacía', 1950), ('recuperar', 1951), ('cabecíta', 1952), ('sigo', 1953), ('bondad', 1954), ('tarde', 1955), ('aseguro', 1956), ('paralelo', 1957), ('semejante', 1958), ('comprarles', 1959), ('puerta', 1960), ('llevo', 1961), ('adiós', 1962), ('malpinas', 1963), ('niveles', 1964), ('maldita', 1965), ('caja', 1966), ('corriendo', 1967), ('negro', 1968), ('saber', 1969), ('disco', 1970), ('motél', 1971), ('dejado', 1972), ('crearla', 1973), ('exagera', 1974), ('gran', 1975), ('hindu', 1976), ('ciberosíto', 1977), ('desempeño', 1978), ('horneando', 1979), ('botiquín', 1980), ('claudia', 1981), ('litros', 1982), ('urgencia', 1983), ('horas', 1984), ('comunicamos', 1985), ('disfrutamos', 1986), ('reforzada', 1987), ('puñalada', 1988), ('supergay', 1989), ('van', 1990), ('cañero', 1991), ('alegre', 1992), ('accidentes', 1993), ('bret', 1994), ('empezar', 1995), ('guardarla', 1996), ('distinguir', 1997), ('concentrémonos', 1998), ('inventaron', 1999), ('molar', 2000), ('ridículo', 2001), ('capas', 2002), ('gastar', 2003), ('aptece', 2004), ('peligrosas', 2005), ('himno', 2006), ('ocurren', 2007), ('capaz', 2008), ('cierto', 2009), ('hombro', 2010), ('skynet', 2011), ('perdona', 2012), ('pagué', 2013), ('lleno', 2014), ('sarcásticos', 2015), ('licor', 2016), ('tipo', 2017), ('relativo', 2018), ('idea', 2019), ('brújula', 2020), ('peligroso', 2021), ('apellido', 2022), ('volveré', 2023), ('tome', 2024), ('bolas', 2025), ('alta', 2026), ('actor', 2027), ('navegantes', 2028), ('presidente', 2029), ('existen', 2030), ('grite', 2031), ('líderes', 2032), ('ponerme', 2033), ('jodía', 2034), ('futbol', 2035), ('atrás', 2036), ('empleado', 2037), ('guardarlo', 2038), ('golpe', 2039), ('cincuenta', 2040), ('venta', 2041), ('toman', 2042), ('liberas', 2043), ('quete', 2044), ('jugadores', 2045), ('recuerdos', 2046), ('pachata', 2047), ('cadena', 2048), ('ido', 2049), ('ocurrido', 2050), ('entiendo', 2051), ('sarcástico', 2052), ('beberé', 2053), ('digo', 2054), ('último', 2055), ('guardas', 2056), ('andabamos', 2057), ('cabeza', 2058), ('vendemos', 2059), ('negors', 2060), ('cerveza', 2061), ('imbécil', 2062), ('quieres', 2063), ('encantará', 2064), ('costó', 2065), ('libros', 2066), ('disfrutando', 2067), ('siquera', 2068), ('conmoción', 2069), ('pensé', 2070), ('pasa', 2071), ('geniales', 2072), ('mil', 2073), ('deben', 2074), ('comenzar', 2075), ('usas', 2076), ('divertido', 2077), ('llevaré', 2078), ('tío', 2079), ('quedaría', 2080), ('sabrán', 2081), ('botellitas', 2082), ('terminó', 2083), ('completamete', 2084), ('pudieseis', 2085), ('crees', 2086), ('hagámos', 2087), ('oooo', 2088), ('sácale', 2089), ('aj', 2090), ('enfermedad', 2091), ('suelen', 2092), ('preocupada', 2093), ('mani', 2094), ('cerebro', 2095), ('piso', 2096), ('preparas', 2097), ('cuánto', 2098), ('quiera', 2099), ('carajo', 2100), ('bromista', 2101), ('kenny', 2102), ('cuija', 2103), ('maldíto', 2104), ('esperamos', 2105), ('ir', 2106), ('preocupa', 2107), ('hace', 2108), ('exceso', 2109), ('culebrón', 2110), ('decirte', 2111), ('sentimientos', 2112), ('matemática', 2113), ('mostrar', 2114), ('misma', 2115), ('listo', 2116), ('aspirante', 2117), ('culos', 2118), ('abrazos', 2119), ('afortunados', 2120), ('puesto', 2121), ('miles', 2122)]\n"
     ]
    }
   ],
   "source": [
    "vocabulario = df.pre_procesada.str.cat(sep=\" \")\n",
    "vocabulario = set(vocabulario.split())\n",
    "vocabulario = [(palabra,i+1) for i,palabra in enumerate(vocabulario)]\n",
    "    \n",
    "print(vocabulario)"
   ]
  },
  {
   "cell_type": "code",
   "execution_count": 5,
   "metadata": {},
   "outputs": [],
   "source": [
    "def bow(frase):\n",
    "    frase_bow = [0]*len(vocabulario)\n",
    "    for palabra,i in vocabulario:\n",
    "        if palabra in frase.split():\n",
    "            frase_bow[i-1] = 1\n",
    "    print(frase_bow)"
   ]
  },
  {
   "cell_type": "code",
   "execution_count": 6,
   "metadata": {},
   "outputs": [
    {
     "name": "stdout",
     "output_type": "stream",
     "text": [
      "[0, 0, 0, 0, 0, 0, 0, 0, 0, 0, 0, 0, 0, 0, 0, 0, 0, 0, 0, 0, 0, 0, 0, 0, 0, 0, 0, 0, 0, 0, 0, 0, 0, 0, 0, 0, 0, 0, 0, 0, 0, 0, 0, 0, 0, 0, 0, 0, 0, 0, 0, 0, 0, 0, 0, 0, 0, 0, 0, 0, 0, 0, 0, 0, 0, 0, 0, 0, 0, 0, 0, 0, 0, 0, 0, 0, 0, 0, 0, 0, 0, 0, 0, 0, 0, 0, 0, 0, 0, 0, 0, 0, 0, 0, 0, 0, 0, 0, 0, 0, 0, 0, 0, 0, 0, 0, 0, 0, 0, 0, 0, 0, 0, 0, 0, 0, 0, 0, 0, 0, 0, 0, 0, 0, 0, 0, 0, 0, 0, 0, 0, 0, 0, 0, 0, 0, 0, 0, 0, 0, 0, 0, 0, 0, 0, 0, 0, 0, 0, 0, 0, 0, 0, 0, 0, 0, 0, 0, 0, 0, 0, 0, 0, 0, 0, 0, 0, 0, 0, 0, 0, 0, 0, 0, 0, 0, 0, 0, 0, 0, 0, 0, 0, 0, 0, 0, 0, 0, 0, 0, 0, 0, 0, 0, 0, 0, 0, 0, 0, 0, 0, 0, 0, 0, 0, 0, 0, 0, 0, 0, 0, 0, 0, 0, 0, 0, 0, 0, 0, 0, 0, 0, 0, 0, 0, 0, 0, 0, 0, 0, 0, 0, 0, 0, 1, 0, 0, 0, 0, 0, 0, 0, 0, 0, 0, 0, 0, 0, 0, 0, 0, 0, 0, 0, 0, 0, 0, 0, 0, 0, 0, 0, 0, 0, 0, 0, 0, 0, 0, 0, 0, 0, 0, 0, 0, 0, 0, 0, 0, 0, 0, 0, 0, 0, 0, 0, 0, 0, 0, 0, 0, 0, 0, 0, 0, 0, 0, 0, 0, 0, 0, 0, 0, 0, 0, 0, 0, 0, 0, 0, 0, 0, 0, 0, 0, 0, 0, 0, 0, 0, 0, 0, 0, 0, 0, 0, 0, 0, 0, 0, 0, 0, 0, 0, 0, 0, 0, 0, 0, 0, 0, 0, 0, 0, 0, 0, 0, 0, 0, 0, 0, 0, 0, 0, 0, 0, 0, 1, 0, 0, 0, 0, 0, 0, 0, 0, 0, 0, 0, 0, 0, 0, 0, 0, 0, 0, 0, 0, 0, 0, 0, 0, 0, 0, 0, 0, 0, 0, 0, 0, 0, 0, 0, 0, 0, 0, 0, 0, 0, 0, 0, 0, 0, 0, 0, 0, 0, 0, 0, 0, 0, 0, 0, 0, 0, 0, 0, 0, 0, 0, 0, 0, 0, 0, 0, 0, 0, 0, 0, 0, 0, 0, 0, 0, 0, 0, 0, 0, 0, 0, 0, 0, 0, 0, 0, 0, 0, 0, 0, 0, 1, 0, 0, 0, 0, 0, 0, 0, 0, 0, 0, 0, 0, 0, 0, 0, 0, 0, 0, 0, 0, 0, 0, 0, 0, 0, 0, 0, 0, 0, 0, 0, 0, 0, 0, 0, 0, 0, 0, 0, 0, 0, 0, 0, 0, 0, 0, 0, 0, 0, 0, 0, 0, 0, 0, 0, 0, 0, 0, 0, 0, 0, 0, 0, 0, 0, 0, 0, 0, 0, 0, 0, 0, 0, 0, 0, 0, 0, 0, 0, 0, 0, 0, 0, 0, 0, 0, 0, 0, 0, 0, 0, 0, 0, 0, 0, 0, 0, 0, 0, 0, 0, 0, 0, 0, 0, 0, 0, 0, 0, 0, 0, 0, 0, 0, 0, 0, 0, 0, 0, 0, 0, 0, 0, 0, 0, 0, 0, 0, 0, 0, 0, 0, 0, 0, 0, 0, 0, 0, 0, 0, 0, 0, 0, 0, 0, 0, 0, 0, 0, 0, 0, 0, 0, 0, 0, 0, 0, 0, 0, 0, 0, 0, 0, 0, 0, 0, 0, 0, 0, 0, 0, 0, 0, 0, 1, 0, 0, 0, 0, 0, 0, 0, 0, 0, 0, 0, 0, 0, 0, 0, 0, 0, 0, 0, 0, 0, 0, 0, 0, 0, 0, 0, 0, 0, 0, 0, 0, 0, 0, 0, 0, 0, 0, 0, 0, 0, 0, 0, 0, 0, 0, 0, 0, 0, 0, 0, 0, 0, 0, 0, 0, 0, 0, 0, 0, 0, 0, 0, 0, 0, 0, 0, 0, 0, 0, 0, 0, 0, 0, 0, 0, 0, 0, 0, 0, 0, 0, 0, 0, 0, 0, 0, 0, 0, 0, 0, 0, 0, 0, 0, 0, 0, 0, 0, 0, 0, 0, 0, 0, 0, 0, 0, 0, 0, 0, 0, 0, 0, 0, 0, 0, 0, 0, 0, 0, 0, 0, 0, 0, 0, 0, 0, 0, 0, 0, 0, 0, 0, 0, 0, 0, 0, 0, 0, 0, 0, 0, 0, 0, 0, 0, 0, 0, 0, 0, 0, 0, 0, 0, 0, 0, 0, 0, 0, 0, 0, 0, 0, 0, 0, 0, 0, 0, 0, 0, 0, 0, 0, 0, 0, 0, 0, 0, 0, 0, 0, 0, 0, 0, 0, 0, 0, 0, 0, 0, 0, 0, 0, 0, 0, 0, 0, 0, 0, 0, 0, 0, 0, 0, 0, 0, 0, 0, 0, 0, 0, 0, 0, 0, 0, 0, 0, 0, 0, 0, 0, 0, 0, 0, 0, 0, 0, 0, 0, 0, 0, 0, 0, 0, 0, 0, 0, 0, 0, 0, 0, 0, 0, 0, 0, 0, 0, 0, 0, 0, 0, 0, 0, 0, 0, 0, 0, 0, 0, 0, 0, 0, 0, 0, 0, 0, 0, 0, 0, 0, 0, 0, 0, 0, 0, 0, 0, 0, 0, 0, 0, 0, 0, 0, 0, 0, 0, 0, 0, 0, 0, 0, 0, 0, 0, 0, 0, 0, 0, 0, 0, 0, 0, 0, 0, 0, 0, 0, 0, 0, 0, 0, 0, 0, 0, 0, 0, 0, 0, 0, 0, 0, 0, 0, 0, 0, 0, 0, 0, 0, 0, 0, 0, 0, 0, 0, 0, 0, 0, 0, 0, 0, 0, 0, 0, 0, 0, 0, 0, 0, 0, 0, 0, 0, 0, 0, 0, 0, 0, 0, 0, 0, 0, 0, 0, 0, 0, 0, 0, 0, 0, 0, 0, 0, 0, 0, 0, 0, 0, 0, 0, 0, 0, 0, 0, 0, 0, 0, 0, 0, 0, 0, 0, 0, 0, 0, 0, 0, 0, 0, 0, 0, 0, 0, 0, 0, 0, 0, 0, 0, 0, 0, 0, 0, 0, 0, 0, 0, 0, 0, 0, 0, 0, 0, 0, 0, 0, 0, 0, 0, 0, 0, 0, 0, 0, 0, 0, 0, 0, 0, 0, 0, 0, 0, 0, 0, 0, 0, 0, 0, 0, 0, 0, 0, 0, 0, 0, 0, 0, 0, 0, 0, 0, 0, 0, 0, 0, 0, 0, 0, 0, 0, 0, 0, 0, 0, 0, 0, 0, 0, 0, 0, 0, 0, 0, 0, 0, 0, 0, 0, 0, 0, 0, 0, 0, 0, 0, 0, 0, 0, 0, 0, 0, 0, 0, 0, 0, 0, 0, 0, 0, 0, 0, 0, 0, 0, 0, 0, 0, 0, 0, 0, 0, 0, 0, 0, 0, 0, 0, 0, 0, 0, 0, 0, 0, 0, 0, 0, 0, 0, 0, 0, 0, 0, 0, 0, 0, 0, 0, 0, 0, 0, 0, 0, 0, 0, 0, 0, 0, 0, 0, 0, 0, 0, 0, 0, 0, 0, 0, 0, 0, 0, 0, 0, 0, 0, 0, 0, 0, 0, 0, 0, 0, 0, 0, 0, 0, 0, 0, 0, 0, 0, 0, 0, 0, 0, 0, 0, 0, 0, 0, 0, 0, 0, 0, 0, 0, 0, 0, 0, 0, 0, 0, 0, 0, 0, 0, 0, 0, 0, 0, 0, 0, 0, 0, 0, 0, 0, 0, 0, 0, 0, 0, 0, 0, 0, 0, 0, 0, 0, 0, 0, 0, 0, 1, 0, 0, 0, 0, 0, 0, 0, 0, 0, 0, 0, 0, 0, 0, 0, 0, 0, 0, 0, 0, 0, 0, 0, 0, 0, 0, 0, 0, 0, 0, 0, 0, 0, 0, 0, 0, 0, 0, 0, 0, 0, 0, 0, 0, 0, 0, 0, 0, 0, 0, 0, 0, 0, 0, 0, 0, 0, 0, 0, 0, 0, 0, 0, 0, 0, 0, 0, 0, 0, 0, 0, 0, 0, 0, 0, 0, 0, 0, 0, 0, 0, 0, 0, 0, 0, 0, 0, 0, 0, 0, 0, 0, 0, 0, 0, 0, 0, 0, 0, 0, 0, 0, 0, 0, 0, 0, 0, 0, 0, 0, 0, 0, 0, 0, 0, 0, 0, 0, 0, 0, 0, 0, 0, 0, 0, 0, 0, 0, 0, 0, 0, 0, 0, 0, 0, 0, 0, 0, 0, 0, 0, 0, 0, 0, 0, 0, 0, 0, 0, 0, 0, 0, 0, 0, 0, 0, 0, 0, 0, 0, 0, 0, 0, 0, 0, 0, 0, 0, 0, 0, 0, 0, 0, 0, 0, 0, 0, 0, 0, 0, 0, 0, 0, 0, 0, 0, 0, 0, 0, 0, 0, 0, 0, 0, 0, 0, 0, 0, 0, 0, 0, 0, 0, 0, 0, 0, 0, 0, 0, 0, 0, 0, 0, 0, 0, 0, 0, 0, 0, 0, 0, 0, 0, 0, 0, 0, 0, 0, 0, 0, 0, 0, 0, 0, 0, 0, 0, 0, 0, 0, 0, 0, 0, 0, 0, 0, 0, 0, 0, 0, 0, 0, 0, 0, 0, 0, 0, 0, 0, 0, 0, 0, 0, 0, 0, 0, 0, 0, 0, 0, 0, 0, 0, 0, 0, 0, 0, 0, 0, 0, 0, 0, 0, 0, 0, 0, 0, 0, 0, 0, 0, 0, 0, 0, 0, 0, 0, 0, 0, 0, 0, 0, 0, 0, 0, 0, 0, 0, 0, 0, 0, 0, 0, 1, 0, 0, 0, 0, 0, 0, 0, 0, 0, 0, 0, 0, 0, 0, 0, 0, 0, 0, 0, 0, 0, 0, 0, 0, 0, 0, 0, 0, 0, 0, 0, 0, 0, 0, 0, 0, 0, 0, 0, 0, 0, 0, 0, 0, 0, 0, 0, 0, 0, 0, 0, 0, 0, 0, 0, 0, 0, 0, 0, 0, 0, 0, 0, 0, 0, 0, 0, 0, 0, 0, 0, 0, 0, 0, 0, 0, 0, 0, 0, 0, 0, 0, 0, 0, 0, 0, 0, 0, 0, 0, 0, 0, 0, 0, 0, 0, 0, 0, 0, 0, 0, 0, 0, 0, 0, 0, 0, 0, 0, 0, 0, 0, 0, 0, 0, 0, 0, 0, 0, 0, 0, 0, 0, 0, 0, 0, 0, 0, 0, 0, 0, 0, 0, 0, 0, 0, 0, 0, 0, 0, 0, 0, 0, 0, 0, 0, 0, 0, 0, 0, 0, 0, 0, 0, 0, 0, 0, 0, 0, 0, 0, 0, 0, 0, 0, 0, 0, 0, 0, 0, 0, 0, 0, 0, 0, 0, 0, 0, 0, 0, 0, 0, 0, 0, 0, 0, 0, 0, 0, 0, 0, 0, 0, 0, 0, 0, 0, 0, 0, 0, 0, 0, 0, 0, 0, 0, 0, 0, 0, 0, 0, 0, 0, 0, 0, 0, 0, 0, 0, 0, 0, 0, 0, 0, 0, 0, 0, 0, 0, 0, 0, 0, 0, 0, 0, 0, 0, 0, 0, 0, 0, 0, 0, 0, 0, 0, 0, 0, 0, 0, 0, 0, 0, 0, 0, 0, 0, 0, 0, 0, 0, 0, 0, 0, 0, 0, 0, 0, 0, 0, 0, 0, 0, 0, 0, 0, 0, 0, 0, 0, 0, 0, 0, 0, 0, 0, 0, 0, 0, 0, 0, 0, 0, 0, 0, 0, 0, 0, 0, 0, 0, 0, 0, 0, 0, 0, 0, 0, 0, 0, 0, 0, 0, 0, 0, 0, 0, 0, 0, 0, 0, 0, 0, 0, 0, 0, 0, 0, 0, 0, 0, 0, 0, 0, 0, 0, 0, 0, 0, 0, 0, 0, 0, 0, 0, 0, 0, 0, 0, 0, 0, 0, 0, 0, 0, 0, 0, 0, 0, 0, 0, 0, 0, 0, 0, 0, 0, 0, 0, 0, 0, 0, 0, 0, 0, 0, 0, 0, 0, 0, 0, 0, 0, 0, 0, 0, 0, 0, 0, 0, 0, 0, 0, 0, 0, 0, 0, 0, 0, 0, 0, 0, 0, 0, 0, 0, 0, 0, 0, 0, 0, 0, 0, 0, 0, 0, 0, 0, 0, 0, 0, 0, 0, 0, 0, 0, 0, 0, 0, 0, 0, 0, 0, 0, 0, 0, 0, 0, 0, 0, 0, 0, 0, 0, 0, 0, 0, 0, 0, 0, 0, 0, 0, 0, 0, 0, 0, 0, 0, 0, 0, 0, 0, 0, 0, 0, 0, 0, 0, 0, 0, 0, 0, 0, 0, 0, 0, 0, 0, 0, 0, 0, 0, 0, 0, 0, 0, 0, 0, 0, 0, 0, 0, 0, 0, 0, 0, 0, 0, 0, 0, 0, 0, 0, 0, 0, 0, 0, 0, 0, 0, 0, 0, 0, 0, 0, 0, 0, 0, 0, 0, 0, 0, 0, 0, 0, 0, 0, 0, 0, 0, 0, 0, 0, 0, 0, 0]\n"
     ]
    }
   ],
   "source": [
    "bow(\"entendido mal joyas venden canales siquiera in\")"
   ]
  },
  {
   "cell_type": "markdown",
   "metadata": {},
   "source": [
    "b. ¿Cuántas palabras hay en el vocabulario? (Usando la función de `sklearn`)"
   ]
  },
  {
   "cell_type": "code",
   "execution_count": 7,
   "metadata": {},
   "outputs": [],
   "source": [
    "from sklearn.feature_extraction.text import CountVectorizer\n",
    "\n",
    "count_vect = CountVectorizer()\n",
    "bow_rep = count_vect.fit_transform(df.pre_procesada.values)"
   ]
  },
  {
   "cell_type": "code",
   "execution_count": 8,
   "metadata": {},
   "outputs": [
    {
     "data": {
      "text/plain": [
       "2115"
      ]
     },
     "execution_count": 8,
     "metadata": {},
     "output_type": "execute_result"
    }
   ],
   "source": [
    "len(count_vect.vocabulary_)"
   ]
  },
  {
   "cell_type": "markdown",
   "metadata": {},
   "source": [
    "### Punto 3 😏\n",
    "\n",
    "a. ¿En qué casos es buena idea tomar en la cuenta la frecuencia de las palabras para la bolsa de palabras?"
   ]
  },
  {
   "cell_type": "code",
   "execution_count": null,
   "metadata": {},
   "outputs": [],
   "source": []
  },
  {
   "cell_type": "markdown",
   "metadata": {},
   "source": [
    "b. ¿Cuándo es una mejor idea usar una bolsa de n-gramas en vez de una bolsa de palabras?"
   ]
  },
  {
   "cell_type": "code",
   "execution_count": null,
   "metadata": {},
   "outputs": [],
   "source": []
  },
  {
   "cell_type": "markdown",
   "metadata": {},
   "source": [
    "### Punto 4 🤪\n",
    "\n",
    "a. ¿A qué pertenecen los dialogos del primer punto? "
   ]
  },
  {
   "cell_type": "code",
   "execution_count": null,
   "metadata": {},
   "outputs": [],
   "source": []
  }
 ],
 "metadata": {
  "kernelspec": {
   "display_name": "Python 3",
   "language": "python",
   "name": "python3"
  },
  "language_info": {
   "codemirror_mode": {
    "name": "ipython",
    "version": 3
   },
   "file_extension": ".py",
   "mimetype": "text/x-python",
   "name": "python",
   "nbconvert_exporter": "python",
   "pygments_lexer": "ipython3",
   "version": "3.7.4"
  }
 },
 "nbformat": 4,
 "nbformat_minor": 2
}
